{
 "cells": [
  {
   "cell_type": "markdown",
   "metadata": {},
   "source": [
    "# List Comprehension\n",
    "List conprehension ofrece una sintaxis corta cuando queremos crear una nueva lista basada en valores de una lista existente."
   ]
  },
  {
   "cell_type": "markdown",
   "metadata": {},
   "source": [
    "## Ejemplo sin list comprehension\n",
    "Para llenar una lista debemos usar un ciclo for y recorrer la lista existente, en este caso sera una lista de frutas. "
   ]
  },
  {
   "cell_type": "code",
   "execution_count": 2,
   "metadata": {},
   "outputs": [
    {
     "name": "stdout",
     "output_type": "stream",
     "text": [
      "['blueberry', 'strawberry']\n"
     ]
    }
   ],
   "source": [
    "fruits = ['apple', 'banana', 'cherry', 'kiwi', 'watermelon', 'mango', 'orange', 'blueberry', 'strawberry']\n",
    "new_list = []\n",
    "\n",
    "for f in fruits:\n",
    "    if 'berry' in f:\n",
    "        new_list.append(f)\n",
    "\n",
    "print(new_list)\n"
   ]
  },
  {
   "cell_type": "markdown",
   "metadata": {},
   "source": [
    "## Ejemplo con list comprehension"
   ]
  },
  {
   "cell_type": "code",
   "execution_count": 3,
   "metadata": {},
   "outputs": [
    {
     "name": "stdout",
     "output_type": "stream",
     "text": [
      "['blueberry', 'strawberry']\n"
     ]
    }
   ],
   "source": [
    "fruits = ['apple', 'banana', 'cherry', 'kiwi', 'watermelon', 'mango', 'orange', 'blueberry', 'strawberry']\n",
    "\n",
    "new_list = [f for f in fruits if \"berry\" in f]\n",
    "\n",
    "print(new_list)"
   ]
  },
  {
   "cell_type": "markdown",
   "metadata": {},
   "source": [
    "## Ejemplo\n",
    "Usaremos list comprehension para crear una lista de números dinamica y despues crearemos otra lista donde solo incluyamos los números que son pares en ella.\n"
   ]
  },
  {
   "cell_type": "code",
   "execution_count": 5,
   "metadata": {},
   "outputs": [
    {
     "name": "stdout",
     "output_type": "stream",
     "text": [
      "[1, 2, 3, 4, 5, 6, 7, 8, 9, 10, 11, 12, 13, 14, 15, 16, 17, 18, 19, 20, 21, 22, 23, 24, 25, 26, 27, 28, 29, 30]\n"
     ]
    }
   ],
   "source": [
    "import random\n",
    "numbers = [n for n in range(1, random.randint(20, 50))]\n",
    "print(numbers)"
   ]
  },
  {
   "cell_type": "code",
   "execution_count": 6,
   "metadata": {},
   "outputs": [
    {
     "name": "stdout",
     "output_type": "stream",
     "text": [
      "[2, 4, 6, 8, 10, 12, 14, 16, 18, 20, 22, 24, 26, 28, 30]\n"
     ]
    }
   ],
   "source": [
    "even_number = [n for n in numbers if n % 2 == 0]\n",
    "print(even_numbers)"
   ]
  },
  {
   "cell_type": "markdown",
   "metadata": {},
   "source": [
    "# Dictionary comprehension\n",
    "Al igual que list comprehension dictionary conprehension permite crear diccionarios de manera más rapída y con una sintaxis más cool.\n",
    "\n",
    "Sintaxis\n",
    "\n",
    "new_dict = {key: value for (key, value) in iterable}\n",
    "\n",
    "Sintaxis con if\n",
    "\n",
    "new_dict = {key: value for (key, value) in iterable if conditional}"
   ]
  },
  {
   "cell_type": "markdown",
   "metadata": {},
   "source": [
    "## Ejemplo 1\n",
    "Tenemos un diccionario con los nombres de algunas ciudades y como valores tenemos la temperatura actual en Farenhait.Vamos a crear un nuevo diccionario pero esta vez la temperatura estara en Celsius"
   ]
  },
  {
   "cell_type": "code",
   "execution_count": 3,
   "metadata": {},
   "outputs": [
    {
     "name": "stdout",
     "output_type": "stream",
     "text": [
      "{'California': 100, 'New York': 30, 'San Francisco': 80, 'Arizona': 120, 'Texas': 110}\n",
      "{'California': 37.78, 'New York': -1.11, 'San Francisco': 26.67, 'Arizona': 48.89, 'Texas': 43.33}\n"
     ]
    }
   ],
   "source": [
    "cities_in_F = {'California': 100, 'New York': 30, 'San Francisco': 80, 'Arizona': 120, 'Texas': 110}\n",
    "\n",
    "cities_in_C = {key: round(((value-32)*(5/9)), 2) for (key, value) in cities_in_F.items()}\n",
    "\n",
    "print(cities_in_F)\n",
    "print(cities_in_C)"
   ]
  },
  {
   "cell_type": "markdown",
   "metadata": {},
   "source": [
    "## Ejemplo 2\n",
    "Tenemos un diccionario con el pronostico del clima para diferentes ciudades, vamos a crear otro diccionario conde solo agregemos las ciudades con un clima soleado."
   ]
  },
  {
   "cell_type": "code",
   "execution_count": 4,
   "metadata": {},
   "outputs": [
    {
     "ename": "SyntaxError",
     "evalue": "did you forget parentheses around the comprehension target? (3901986709.py, line 2)",
     "output_type": "error",
     "traceback": [
      "\u001b[0;36m  Cell \u001b[0;32mIn [4], line 2\u001b[0;36m\u001b[0m\n\u001b[0;31m    sunny_weather = {key, value for (key, value) in weather.items() if value == 'soleado'}\u001b[0m\n\u001b[0m                     ^\u001b[0m\n\u001b[0;31mSyntaxError\u001b[0m\u001b[0;31m:\u001b[0m did you forget parentheses around the comprehension target?\n"
     ]
    }
   ],
   "source": [
    "weather = {'México': 'soleado', 'Guadalajara': 'lluvioso', 'Puebla': 'nublado', 'Yucatan': 'soleado', 'Oaxaca': 'soleado', 'Michoacan': 'lluvioso'}\n",
    "sunny_weather = {key, value for (key, value) in weather.items() if value == 'soleado'}\n",
    "\n",
    "print(sunny_weather)\n"
   ]
  }
 ],
 "metadata": {
  "kernelspec": {
   "display_name": "Python 3 (ipykernel)",
   "language": "python",
   "name": "python3"
  },
  "language_info": {
   "codemirror_mode": {
    "name": "ipython",
    "version": 3
   },
   "file_extension": ".py",
   "mimetype": "text/x-python",
   "name": "python",
   "nbconvert_exporter": "python",
   "pygments_lexer": "ipython3",
   "version": "3.10.6"
  },
  "vscode": {
   "interpreter": {
    "hash": "8d7a2876105558808a1eaad35660518c0599299e2c93fe776fb5ff345cb6a1c6"
   }
  }
 },
 "nbformat": 4,
 "nbformat_minor": 2
}
