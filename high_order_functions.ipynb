{
 "cells": [
  {
   "cell_type": "markdown",
   "metadata": {},
   "source": [
    "# Funciones lambda\n",
    "Las funciones lambda son funciones anonimas que solo pueden contener una expresión.\n",
    "Las funciones lambda se usa cuando se necesita una funcion sencilla y de rapido acceso."
   ]
  },
  {
   "cell_type": "code",
   "execution_count": 3,
   "metadata": {},
   "outputs": [
    {
     "name": "stdout",
     "output_type": "stream",
     "text": [
      "44 is even\n",
      "5 is odd\n"
     ]
    }
   ],
   "source": [
    "even_or_odd = lambda x: f'{x} is even' if x % 2 == 0 else f'{x} is odd'\n",
    "\n",
    "even_number = even_or_odd(44)\n",
    "odd_number = even_or_odd(5)\n",
    "print(even_number)\n",
    "print(odd_number)"
   ]
  },
  {
   "cell_type": "markdown",
   "metadata": {},
   "source": [
    "# Funciones de orden superior\n",
    "En python podemos usar el paradigma funcional. Una de las caracteristicas de dicho paradigma son las funciones de orden superior.\n",
    "Las funciones de orden superior son funciones que pueden recibir como parametro otras funciones y/o devolverlas como resultado.\n",
    "\n",
    "## Funciones de orden superior en python\n",
    "En python existen funciones de orden superior ya definidas, algunas de ellas son map(), filter(), reduce(), entre otras.\n",
    "Estas funciones reciben dos parametros, el primero de ellos es una funcion podemos definir una funcion lambda en la declaración o podemos\n",
    "predefinir una función ya sea lambada o tradicional y un iterable, ya sea una lista, una tupla, un set o un diccionario.   "
   ]
  },
  {
   "cell_type": "markdown",
   "metadata": {},
   "source": [
    "# map()\n",
    "map aplica una función a todos los item en un iterable, de una manera mas simple y una manera más agradable. "
   ]
  },
  {
   "cell_type": "code",
   "execution_count": 4,
   "metadata": {},
   "outputs": [
    {
     "name": "stdout",
     "output_type": "stream",
     "text": [
      "[2, 4, 6, 8, 10, 12, 14, 16, 18, 20, 22, 24, 26, 28, 30, 32, 34, 36, 38, 40, 42, 44, 46, 48, 50]\n"
     ]
    }
   ],
   "source": [
    "import random\n",
    "numbers = [n for n in range(1, random.randint(20, 50))]\n",
    "\n",
    "# Es importante convertir el resultado a una lista ya que map devuelve un objeto de tipo map\n",
    "times_two = list(map(lambda x: x*2, numbers))\n",
    "print(times_two)"
   ]
  },
  {
   "cell_type": "code",
   "execution_count": 5,
   "metadata": {},
   "outputs": [],
   "source": [
    "products = [\n",
    "    {\n",
    "    \"id\": \"123123\",\n",
    "    \"name\":\"smartphone\",\n",
    "    \"brand\": \"apple\",\n",
    "    \"price\": 1000\n",
    "    },\n",
    "    {\n",
    "    \"id\": \"374283\",\n",
    "    \"name\":\"smart TV\",\n",
    "    \"brand\": \"LG\",\n",
    "    \"price\": 1300\n",
    "    },\n",
    "    {\n",
    "    \"id\": \"098321\",\n",
    "    \"name\":\"speaker\",\n",
    "    \"brand\": \"JBL\",\n",
    "    \"price\": 400\n",
    "    },\n",
    "    {\n",
    "    \"id\": \"840321\",\n",
    "    \"name\":\"Laptop\",\n",
    "    \"brand\": \"Huawei\",\n",
    "    \"price\": 700\n",
    "    },\n",
    "]"
   ]
  },
  {
   "cell_type": "code",
   "execution_count": 6,
   "metadata": {},
   "outputs": [
    {
     "name": "stdout",
     "output_type": "stream",
     "text": [
      "[1000, 1300, 400, 700]\n"
     ]
    }
   ],
   "source": [
    "prices = list(map(lambda item: item['price'], products))\n",
    "print(prices)"
   ]
  },
  {
   "cell_type": "code",
   "execution_count": 7,
   "metadata": {},
   "outputs": [],
   "source": [
    "def apply_discount(products):\n",
    "    \"\"\"\n",
    "    Funcion que aplica el 15% de descuento a los productos\n",
    "    \"\"\"\n",
    "    products_copy = products.copy()\n",
    "    products_copy['new_price'] = products['price'] - (products_copy['price'] * 0.15)\n",
    "    return products_copy\n"
   ]
  },
  {
   "cell_type": "code",
   "execution_count": 8,
   "metadata": {},
   "outputs": [
    {
     "name": "stdout",
     "output_type": "stream",
     "text": [
      "[850.0, 1105.0, 340.0, 595.0]\n"
     ]
    }
   ],
   "source": [
    "discounts = list(map(apply_discount, products))\n",
    "get_discounts = list(map(lambda item: item['new_price'], discounts))\n",
    "print(get_discounts)"
   ]
  },
  {
   "cell_type": "code",
   "execution_count": 11,
   "metadata": {},
   "outputs": [
    {
     "name": "stdout",
     "output_type": "stream",
     "text": [
      "['1', '2', 'Fizz', '4', 'Buzz', 'Fizz', '7', '8', 'Fizz', 'Buzz', '11', 'Fizz', '13', '14', 'FizzBuzz', '16', '17', 'Fizz', '19', 'Buzz', 'Fizz', '22', '23', 'Fizz', 'Buzz']\n"
     ]
    }
   ],
   "source": [
    "# Ejemplo \n",
    "\n",
    "def fizz_buzz(number):\n",
    "    \"\"\"Esta función recibe un número de parametro y si es multiplo de tres retorna Fizz\n",
    "     Si es multiplo de cinco retorna Buzz, pero si es multiplo de tres y de cinco a la vez\n",
    "     retorna FizzBuzz.\n",
    "\n",
    "    Args:\n",
    "        number (int): Número entero a evaluar.\n",
    "\n",
    "    Returns:\n",
    "        str: Retorna Fizz Buzz o FizzBuzz dependiendo si el número satisface cualquiera de las condiciones\n",
    "        planteadas.\n",
    "    \"\"\"\n",
    "    is_multiple_of_three = number % 3 == 0\n",
    "    is_multiple_of_five = number % 5 == 0\n",
    "\n",
    "    if is_multiple_of_three and is_multiple_of_five:\n",
    "        return 'FizzBuzz'\n",
    "    elif is_multiple_of_three:\n",
    "        return 'Fizz'\n",
    "    elif is_multiple_of_five:\n",
    "        return 'Buzz'\n",
    "    else:\n",
    "        return str(number)\n",
    "\n",
    "fizz_buzz_list = list(map(fizz_buzz, numbers))\n",
    "print(fizz_buzz_list)"
   ]
  },
  {
   "cell_type": "markdown",
   "metadata": {},
   "source": [
    "## Filter()\n",
    "filter crea una lista de elementos para los que una funcion retorna True.\n",
    "Se asemeja a un ciclo for pero es una función integrada y más rápida.  "
   ]
  },
  {
   "cell_type": "code",
   "execution_count": 13,
   "metadata": {},
   "outputs": [
    {
     "name": "stdout",
     "output_type": "stream",
     "text": [
      "[1, 2, 3, 4, 5, 6, 7, 8, 9, 10, 11, 12, 13, 14, 15, 16, 17, 18, 19, 20, 21, 22, 23, 24, 25]\n"
     ]
    }
   ],
   "source": [
    "# Usare la funcion is_even definida al principio y la lista dinamica de números.\n",
    "evens = list(filter(even_or_odd, numbers))\n",
    "print(evens)"
   ]
  },
  {
   "cell_type": "code",
   "execution_count": 16,
   "metadata": {},
   "outputs": [],
   "source": [
    "def is_prime(number):\n",
    "    \"\"\"Funcion que evalua si el número pasado como parametro es primo o no\n",
    "\n",
    "    Args:\n",
    "        number (int): Número entero a evaluar\n",
    "\n",
    "    Returns:\n",
    "        bool: Retorna True si el número es primo y False si no lo es. \n",
    "    \"\"\"\n",
    "    if number <= 2:\n",
    "        return False\n",
    "    for i in range(2, number):\n",
    "        if number % i == 0:\n",
    "            return False\n",
    "    return True"
   ]
  },
  {
   "cell_type": "code",
   "execution_count": 15,
   "metadata": {},
   "outputs": [
    {
     "name": "stdout",
     "output_type": "stream",
     "text": [
      "[3, 5, 7, 11, 13, 17, 19, 23]\n"
     ]
    }
   ],
   "source": [
    "prime_numbers = list(filter(is_prime, numbers))\n",
    "print(prime_numbers)"
   ]
  },
  {
   "cell_type": "markdown",
   "metadata": {},
   "source": [
    "# Reduce\n",
    "La funcion reduce es usada para aplicar una funcion particular pasada en su argumento a todos los elementos de una lista mensionados en la secuencia pasada.\n",
    "Esta función esta definida en el modulo `functools`\n",
    "\n",
    "## Funcionamiento\n",
    "1. Se seleccionan los dos primeros elementos de la secuencia y se obtiene el resultado.\n",
    "2. Se aplica la misma función al resultado anterior y al segundo número que sucece al segundo elemento y el resultado se almacena nuevamente.\n",
    "3. El proceso continua hasta que no hay mas elementos en el iterable. "
   ]
  },
  {
   "cell_type": "code",
   "execution_count": 17,
   "metadata": {},
   "outputs": [
    {
     "name": "stdout",
     "output_type": "stream",
     "text": [
      "The sum of the list elements is: 325\n"
     ]
    }
   ],
   "source": [
    "import functools\n",
    "\n",
    "sum_elements = functools.reduce(lambda a, b: a + b, numbers)\n",
    "print(f'The sum of the list elements is: {sum_elements}')"
   ]
  },
  {
   "cell_type": "code",
   "execution_count": 18,
   "metadata": {},
   "outputs": [
    {
     "name": "stdout",
     "output_type": "stream",
     "text": [
      "The maximum element of the list is: 25\n"
     ]
    }
   ],
   "source": [
    "max_item = functools.reduce(lambda a, b: a if a > b else b, numbers)\n",
    "print(f'The maximum element of the list is: {max_item}')"
   ]
  }
 ],
 "metadata": {
  "kernelspec": {
   "display_name": "Python 3.8.10 64-bit",
   "language": "python",
   "name": "python3"
  },
  "language_info": {
   "codemirror_mode": {
    "name": "ipython",
    "version": 3
   },
   "file_extension": ".py",
   "mimetype": "text/x-python",
   "name": "python",
   "nbconvert_exporter": "python",
   "pygments_lexer": "ipython3",
   "version": "3.8.10"
  },
  "vscode": {
   "interpreter": {
    "hash": "916dbcbb3f70747c44a77c7bcd40155683ae19c65e1c03b4aa3499c5328201f1"
   }
  }
 },
 "nbformat": 4,
 "nbformat_minor": 2
}
