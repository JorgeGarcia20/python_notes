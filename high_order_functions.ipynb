{
 "cells": [
  {
   "cell_type": "markdown",
   "metadata": {},
   "source": [
    "# Funciones lambda\n",
    "Las funciones lambda son funciones anonimas que solo pueden contener una expresión.\n",
    "Las funciones lambda se usa cuando se necesita una funcion sencilla y de rapido acceso."
   ]
  },
  {
   "cell_type": "code",
   "execution_count": 3,
   "metadata": {},
   "outputs": [
    {
     "name": "stdout",
     "output_type": "stream",
     "text": [
      "True\n",
      "False\n"
     ]
    }
   ],
   "source": [
    "is_even = lambda x: x % 2 == 0\n",
    "\n",
    "even_number = is_even(44)\n",
    "odd_number = is_even(5)\n",
    "print(even_number)\n",
    "print(odd_number)"
   ]
  },
  {
   "cell_type": "markdown",
   "metadata": {},
   "source": [
    "# Funciones de orden superior\n",
    "En python podemos usar el paradigma funcional. Una de las caracteristicas de dicho paradigma son las funciones de orden superior.\n",
    "Las funciones de orden superior son funciones que pueden recibir como parametro otras funciones y/o devolverlas como resultado.\n",
    "\n",
    "## Funciones de orden superior en python\n",
    "En python existen funciones de orden superior ya definidas, algunas de ellas son map(), filter(), reduce(), entre otras.\n",
    "Estas funciones reciben dos parametros, el primero de ellos es una funcion podemos definir una funcion lambda en la declaración o podemos\n",
    "predefinir una función ya sea lambada o tradicional y un iterable, ya sea una lista, una tupla, un set o un diccionario.   "
   ]
  },
  {
   "cell_type": "markdown",
   "metadata": {},
   "source": [
    "# map()"
   ]
  },
  {
   "cell_type": "code",
   "execution_count": 6,
   "metadata": {},
   "outputs": [
    {
     "name": "stdout",
     "output_type": "stream",
     "text": [
      "[2, 4, 6, 8, 10, 12, 14, 16, 18, 20, 22, 24, 26, 28, 30, 32, 34, 36, 38, 40, 42, 44, 46, 48, 50, 52, 54, 56, 58, 60]\n"
     ]
    }
   ],
   "source": [
    "import random\n",
    "numbers = [n for n in range(1, random.randint(20, 50))]\n",
    "\n",
    "# Es importante convertir el resultado a una lista ya que map devuelve un objeto de tipo map\n",
    "times_two = list(map(lambda x: x*2, numbers))\n",
    "print(times_two)"
   ]
  },
  {
   "cell_type": "code",
   "execution_count": 24,
   "metadata": {},
   "outputs": [],
   "source": [
    "products = [\n",
    "    {\n",
    "    \"id\": \"123123\",\n",
    "    \"name\":\"smartphone\",\n",
    "    \"brand\": \"apple\",\n",
    "    \"price\": 1000\n",
    "    },\n",
    "    {\n",
    "    \"id\": \"374283\",\n",
    "    \"name\":\"smart TV\",\n",
    "    \"brand\": \"LG\",\n",
    "    \"price\": 1300\n",
    "    },\n",
    "    {\n",
    "    \"id\": \"098321\",\n",
    "    \"name\":\"speaker\",\n",
    "    \"brand\": \"JBL\",\n",
    "    \"price\": 400\n",
    "    },\n",
    "    {\n",
    "    \"id\": \"840321\",\n",
    "    \"name\":\"Laptop\",\n",
    "    \"brand\": \"Huawei\",\n",
    "    \"price\": 700\n",
    "    },\n",
    "]"
   ]
  },
  {
   "cell_type": "code",
   "execution_count": 26,
   "metadata": {},
   "outputs": [
    {
     "name": "stdout",
     "output_type": "stream",
     "text": [
      "[1000, 1300, 400, 700]\n"
     ]
    }
   ],
   "source": [
    "prices = list(map(lambda item: item['price'], products))\n",
    "print(prices)"
   ]
  },
  {
   "cell_type": "code",
   "execution_count": 46,
   "metadata": {},
   "outputs": [],
   "source": [
    "def apply_discount(products):\n",
    "    \"\"\"\n",
    "    Funcion que aplica el 15% de descuento a los productos\n",
    "    \"\"\"\n",
    "    products_copy = products.copy()\n",
    "    products_copy['new_price'] = products['price'] - (products_copy['price'] * 0.15)\n",
    "    return products_copy\n"
   ]
  },
  {
   "cell_type": "code",
   "execution_count": 47,
   "metadata": {},
   "outputs": [
    {
     "name": "stdout",
     "output_type": "stream",
     "text": [
      "[850.0, 1105.0, 340.0, 595.0]\n"
     ]
    }
   ],
   "source": [
    "discounts = list(map(apply_discount, products))\n",
    "get_discounts = list(map(lambda item: item['new_price'], discounts))\n",
    "print(get_discounts)"
   ]
  },
  {
   "cell_type": "markdown",
   "metadata": {},
   "source": [
    "## Filter()"
   ]
  },
  {
   "cell_type": "code",
   "execution_count": 8,
   "metadata": {},
   "outputs": [
    {
     "name": "stdout",
     "output_type": "stream",
     "text": [
      "[2, 4, 6, 8, 10, 12, 14, 16, 18, 20, 22, 24, 26, 28, 30]\n"
     ]
    }
   ],
   "source": [
    "# Usare la funcion is_even definida al principio y la lista dinamica de números.\n",
    "evens = list(filter(is_even, numbers))\n",
    "print(evens)"
   ]
  },
  {
   "cell_type": "code",
   "execution_count": 21,
   "metadata": {},
   "outputs": [],
   "source": [
    "def is_prime(number):\n",
    "    \"\"\"\n",
    "    Funcion para determinar si el numero ingresado como parametro es primo o no\n",
    "    \"\"\"\n",
    "    if number <= 2:\n",
    "        return False\n",
    "    for i in range(2, number):\n",
    "        if number % i == 0:\n",
    "            return False\n",
    "    return True"
   ]
  },
  {
   "cell_type": "code",
   "execution_count": 23,
   "metadata": {},
   "outputs": [
    {
     "name": "stdout",
     "output_type": "stream",
     "text": [
      "[3, 5, 7, 11, 13, 17, 19, 23, 29]\n"
     ]
    }
   ],
   "source": [
    "prime_numbers = list(filter(is_prime, numbers))\n",
    "print(prime_numbers)"
   ]
  }
 ],
 "metadata": {
  "kernelspec": {
   "display_name": "Python 3.10.6 64-bit",
   "language": "python",
   "name": "python3"
  },
  "language_info": {
   "codemirror_mode": {
    "name": "ipython",
    "version": 3
   },
   "file_extension": ".py",
   "mimetype": "text/x-python",
   "name": "python",
   "nbconvert_exporter": "python",
   "pygments_lexer": "ipython3",
   "version": "3.10.6"
  },
  "orig_nbformat": 4,
  "vscode": {
   "interpreter": {
    "hash": "e7370f93d1d0cde622a1f8e1c04877d8463912d04d973331ad4851f04de6915a"
   }
  }
 },
 "nbformat": 4,
 "nbformat_minor": 2
}
