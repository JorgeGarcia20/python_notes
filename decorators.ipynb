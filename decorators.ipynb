{
 "cells": [
  {
   "cell_type": "markdown",
   "id": "756e2a75",
   "metadata": {},
   "source": [
    "# **Decoradores en Python**\n",
    "\n",
    "Los decoradores son funciones que modifican el comportamiento de otras funciones, ayudan a acortar nuestro código y hacen que sea mas Pythonico. "
   ]
  },
  {
   "cell_type": "code",
   "execution_count": 7,
   "id": "c8c65ad8",
   "metadata": {},
   "outputs": [],
   "source": [
    "def my_decorator(function):\n",
    "    def function_a(a, b):\n",
    "        print(\"The Function going to be called\")\n",
    "        c = function(a, b)\n",
    "        print(c)\n",
    "        print(\"Function has been called\")\n",
    "        #return c\n",
    "    return function_a\n"
   ]
  },
  {
   "cell_type": "code",
   "execution_count": 8,
   "id": "2f6714d8",
   "metadata": {},
   "outputs": [],
   "source": [
    "@my_decorator\n",
    "def my_sum(a, b):\n",
    "    print(\"Sum function\")\n",
    "    return a + b"
   ]
  },
  {
   "cell_type": "code",
   "execution_count": 9,
   "id": "3b337da5",
   "metadata": {},
   "outputs": [
    {
     "name": "stdout",
     "output_type": "stream",
     "text": [
      "The Function going to be called\n",
      "Sum function\n",
      "92\n",
      "Function has been called\n"
     ]
    }
   ],
   "source": [
    "my_sum(30, 62)"
   ]
  },
  {
   "cell_type": "code",
   "execution_count": 10,
   "id": "9fa3ab50",
   "metadata": {},
   "outputs": [],
   "source": [
    "def styled_function(function):\n",
    "    def function_2(name):\n",
    "        print(f\"\"\"\n",
    "        ------------------------------\n",
    "        |            {name}          |\n",
    "        ------------------------------\n",
    "        \"\"\")\n",
    "    return function_2"
   ]
  },
  {
   "cell_type": "code",
   "execution_count": 11,
   "id": "ae0cad17",
   "metadata": {},
   "outputs": [],
   "source": [
    "@styled_function\n",
    "def greeting(name):\n",
    "    return f'Hello {name}'"
   ]
  },
  {
   "cell_type": "code",
   "execution_count": 13,
   "id": "ea465eb9",
   "metadata": {},
   "outputs": [
    {
     "name": "stdout",
     "output_type": "stream",
     "text": [
      "\n",
      "        ------------------------------\n",
      "        |            jorge          |\n",
      "        ------------------------------\n",
      "        \n"
     ]
    }
   ],
   "source": [
    "greeting('jorge')"
   ]
  },
  {
   "cell_type": "markdown",
   "id": "cbc00e8d",
   "metadata": {},
   "source": [
    "## **Decoradores con parametros**"
   ]
  },
  {
   "cell_type": "code",
   "execution_count": 31,
   "id": "4eeb5be1",
   "metadata": {},
   "outputs": [],
   "source": [
    "def my_decorator(arg):\n",
    "    def real_decorator(function):\n",
    "        def new_function(a, b):\n",
    "            print(arg*30)\n",
    "            print(f'The result is: {function(a, b)}'.center(30, arg))\n",
    "            print(arg*30)\n",
    "        return new_function\n",
    "    return real_decorator"
   ]
  },
  {
   "cell_type": "code",
   "execution_count": 32,
   "id": "007b1c1f",
   "metadata": {},
   "outputs": [],
   "source": [
    "@my_decorator('*')\n",
    "def my_sum(a, b):\n",
    "    return a + b"
   ]
  },
  {
   "cell_type": "code",
   "execution_count": 33,
   "id": "6124ee08",
   "metadata": {},
   "outputs": [
    {
     "name": "stdout",
     "output_type": "stream",
     "text": [
      "******************************\n",
      "******The result is: 59*******\n",
      "******************************\n"
     ]
    }
   ],
   "source": [
    "my_sum(20, 39)"
   ]
  },
  {
   "cell_type": "code",
   "execution_count": 34,
   "id": "cd894c5d",
   "metadata": {},
   "outputs": [],
   "source": [
    "@my_decorator('-')\n",
    "def my_substraction(a,b):\n",
    "    return a - b"
   ]
  },
  {
   "cell_type": "code",
   "execution_count": 35,
   "id": "0d6e7a8f",
   "metadata": {},
   "outputs": [
    {
     "name": "stdout",
     "output_type": "stream",
     "text": [
      "------------------------------\n",
      "------The result is: -11------\n",
      "------------------------------\n"
     ]
    }
   ],
   "source": [
    "my_substraction(20, 31)"
   ]
  },
  {
   "cell_type": "code",
   "execution_count": 36,
   "id": "d0945718",
   "metadata": {},
   "outputs": [],
   "source": [
    "@my_decorator('~')\n",
    "def my_multiplication(a, b):\n",
    "    return a * b"
   ]
  },
  {
   "cell_type": "code",
   "execution_count": 37,
   "id": "30f22982",
   "metadata": {},
   "outputs": [
    {
     "name": "stdout",
     "output_type": "stream",
     "text": [
      "~~~~~~~~~~~~~~~~~~~~~~~~~~~~~~\n",
      "~~~~~~The result is: 240~~~~~~\n",
      "~~~~~~~~~~~~~~~~~~~~~~~~~~~~~~\n"
     ]
    }
   ],
   "source": [
    "my_multiplication(20, 12)"
   ]
  },
  {
   "cell_type": "markdown",
   "id": "f2c9ac81",
   "metadata": {},
   "source": [
    "## Ejemplo: logger\n",
    "Este ejemplo permite escribir en un fichero los resultados de ciertas operaciones que han sido llamadas o cualquier informacion que en el futuro pueda resultar útil."
   ]
  },
  {
   "cell_type": "code",
   "execution_count": 38,
   "id": "b4bd341e",
   "metadata": {},
   "outputs": [],
   "source": [
    "def log(log_file):\n",
    "    def log_decorator(func):\n",
    "        def func_decorator(*args, **kwargs):\n",
    "            with open(log_file, 'a') as opened_file:\n",
    "                output = func(*args, **kwargs)\n",
    "                opened_file.write(f'{output}\\n')\n",
    "        return func_decorator\n",
    "    return log_decorator"
   ]
  },
  {
   "cell_type": "code",
   "execution_count": 42,
   "id": "c25ca005",
   "metadata": {},
   "outputs": [],
   "source": [
    "@log('sum.log')\n",
    "def my_sum(a, b):\n",
    "    return a + b\n",
    "\n",
    "@log('subtraction.log')\n",
    "def my_subtraction(a, b):\n",
    "    return a - b\n",
    "\n",
    "@log('multiplication.log')\n",
    "def my_multiplication(a, b):\n",
    "    return a * b\n",
    "\n",
    "@log('division.log')\n",
    "def my_division(a, b):\n",
    "    return a / b"
   ]
  },
  {
   "cell_type": "code",
   "execution_count": 41,
   "id": "35ec53ef",
   "metadata": {},
   "outputs": [],
   "source": [
    "my_sum(30, 32)"
   ]
  },
  {
   "cell_type": "code",
   "execution_count": 43,
   "id": "7bbb3f9b",
   "metadata": {},
   "outputs": [],
   "source": [
    "my_subtraction(30, 21)"
   ]
  },
  {
   "cell_type": "code",
   "execution_count": 44,
   "id": "7086b6d7",
   "metadata": {},
   "outputs": [],
   "source": [
    "my_multiplication(32, 32)"
   ]
  },
  {
   "cell_type": "code",
   "execution_count": 45,
   "id": "fdb05b60",
   "metadata": {},
   "outputs": [],
   "source": [
    "my_division(53, 21)"
   ]
  }
 ],
 "metadata": {
  "kernelspec": {
   "display_name": "Python 3 (ipykernel)",
   "language": "python",
   "name": "python3"
  },
  "language_info": {
   "codemirror_mode": {
    "name": "ipython",
    "version": 3
   },
   "file_extension": ".py",
   "mimetype": "text/x-python",
   "name": "python",
   "nbconvert_exporter": "python",
   "pygments_lexer": "ipython3",
   "version": "3.8.10"
  }
 },
 "nbformat": 4,
 "nbformat_minor": 5
}
