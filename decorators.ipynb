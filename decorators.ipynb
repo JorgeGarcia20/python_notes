{
 "cells": [
  {
   "cell_type": "markdown",
   "id": "756e2a75",
   "metadata": {},
   "source": [
    "# **Decoradores en Python**\n",
    "\n",
    "Los decoradores son funciones que modifican el comportamiento de otras funciones, ayudan a acortar nuestro código y hacen que sea mas Pythonico. "
   ]
  },
  {
   "cell_type": "code",
   "execution_count": 7,
   "id": "c8c65ad8",
   "metadata": {},
   "outputs": [],
   "source": [
    "def my_decorator(function):\n",
    "    def function_a(a, b):\n",
    "        print(\"The Function going to be called\")\n",
    "        c = function(a, b)\n",
    "        print(c)\n",
    "        print(\"Function has been called\")\n",
    "        #return c\n",
    "    return function_a\n"
   ]
  },
  {
   "cell_type": "code",
   "execution_count": 8,
   "id": "2f6714d8",
   "metadata": {},
   "outputs": [],
   "source": [
    "@my_decorator\n",
    "def my_sum(a, b):\n",
    "    print(\"Sum function\")\n",
    "    return a + b"
   ]
  },
  {
   "cell_type": "code",
   "execution_count": 9,
   "id": "6ccc9bf9",
   "metadata": {},
   "outputs": [
    {
     "name": "stdout",
     "output_type": "stream",
     "text": [
      "The Function going to be called\n",
      "Sum function\n",
      "92\n",
      "Function has been called\n"
     ]
    }
   ],
   "source": [
    "my_sum(30, 62)"
   ]
  },
  {
   "cell_type": "code",
   "execution_count": 10,
   "id": "2f673b2f",
   "metadata": {},
   "outputs": [],
   "source": [
    "def styled_function(function):\n",
    "    def function_2(name):\n",
    "        print(f\"\"\"\n",
    "        ------------------------------\n",
    "        |            {name}          |\n",
    "        ------------------------------\n",
    "        \"\"\")\n",
    "    return function_2"
   ]
  },
  {
   "cell_type": "code",
   "execution_count": 11,
   "id": "46940423",
   "metadata": {},
   "outputs": [],
   "source": [
    "@styled_function\n",
    "def greeting(name):\n",
    "    return f'Hello {name}'"
   ]
  },
  {
   "cell_type": "code",
   "execution_count": 13,
   "id": "c0bd1ccf",
   "metadata": {},
   "outputs": [
    {
     "name": "stdout",
     "output_type": "stream",
     "text": [
      "\n",
      "        ------------------------------\n",
      "        |            jorge          |\n",
      "        ------------------------------\n",
      "        \n"
     ]
    }
   ],
   "source": [
    "greeting('jorge')"
   ]
  },
  {
   "cell_type": "code",
   "execution_count": 31,
   "id": "4c2cc819",
   "metadata": {},
   "outputs": [],
   "source": [
    "def my_decorator(arg):\n",
    "    def real_decorator(function):\n",
    "        def new_function(a, b):\n",
    "            print(arg*30)\n",
    "            print(f'The result is: {function(a, b)}'.center(30, arg))\n",
    "            print(arg*30)\n",
    "        return new_function\n",
    "    return real_decorator"
   ]
  },
  {
   "cell_type": "code",
   "execution_count": 32,
   "id": "811b5b63",
   "metadata": {},
   "outputs": [],
   "source": [
    "@my_decorator('*')\n",
    "def my_sum(a, b):\n",
    "    return a + b"
   ]
  },
  {
   "cell_type": "code",
   "execution_count": 33,
   "id": "d9ca7e13",
   "metadata": {},
   "outputs": [
    {
     "name": "stdout",
     "output_type": "stream",
     "text": [
      "******************************\n",
      "******The result is: 59*******\n",
      "******************************\n"
     ]
    }
   ],
   "source": [
    "my_sum(20, 39)"
   ]
  },
  {
   "cell_type": "code",
   "execution_count": 34,
   "id": "f9715631",
   "metadata": {},
   "outputs": [],
   "source": [
    "@my_decorator('-')\n",
    "def my_substraction(a,b):\n",
    "    return a - b"
   ]
  },
  {
   "cell_type": "code",
   "execution_count": 35,
   "id": "bd1b6f60",
   "metadata": {},
   "outputs": [
    {
     "name": "stdout",
     "output_type": "stream",
     "text": [
      "------------------------------\n",
      "------The result is: -11------\n",
      "------------------------------\n"
     ]
    }
   ],
   "source": [
    "my_substraction(20, 31)"
   ]
  },
  {
   "cell_type": "code",
   "execution_count": 36,
   "id": "c0fa3f6e",
   "metadata": {},
   "outputs": [],
   "source": [
    "@my_decorator('~')\n",
    "def my_multiplication(a, b):\n",
    "    return a * b"
   ]
  },
  {
   "cell_type": "code",
   "execution_count": 37,
   "id": "19705695",
   "metadata": {},
   "outputs": [
    {
     "name": "stdout",
     "output_type": "stream",
     "text": [
      "~~~~~~~~~~~~~~~~~~~~~~~~~~~~~~\n",
      "~~~~~~The result is: 240~~~~~~\n",
      "~~~~~~~~~~~~~~~~~~~~~~~~~~~~~~\n"
     ]
    }
   ],
   "source": [
    "my_multiplication(20, 12)"
   ]
  }
 ],
 "metadata": {
  "kernelspec": {
   "display_name": "Python 3 (ipykernel)",
   "language": "python",
   "name": "python3"
  },
  "language_info": {
   "codemirror_mode": {
    "name": "ipython",
    "version": 3
   },
   "file_extension": ".py",
   "mimetype": "text/x-python",
   "name": "python",
   "nbconvert_exporter": "python",
   "pygments_lexer": "ipython3",
   "version": "3.8.10"
  }
 },
 "nbformat": 4,
 "nbformat_minor": 5
}
